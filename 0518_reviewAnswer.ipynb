{
 "cells": [
  {
   "cell_type": "markdown",
   "metadata": {},
   "source": [
    "# 문제 1\n",
    "\n",
    ">블루마블에서 두 개의 주사위를 던져 칸을 이동하는 프로그램을 만들어라. <p>\n",
    "    원하는 출력물은 다음과 같다.\n",
    "\n",
    "> --- output ---<p>\n",
    "앞으로 7칸 이동하세요.\n"
   ]
  },
  {
   "cell_type": "code",
   "execution_count": 77,
   "metadata": {},
   "outputs": [
    {
     "name": "stdout",
     "output_type": "stream",
     "text": [
      "앞으로 6칸 이동하세요\n"
     ]
    }
   ],
   "source": [
    "# 문제 1 답\n",
    "import random\n",
    "\n",
    "ND1 = random.randrange(1,6)\n",
    "ND2 = random.randrange(1,6)\n",
    "\n",
    "TB = lambda ND1, ND2 : ND1 + ND2\n",
    "\n",
    "print(\"앞으로 {}칸 이동하세요\".format(TB(ND1,ND2)))"
   ]
  },
  {
   "cell_type": "markdown",
   "metadata": {},
   "source": [
    "# 문제2\n",
    "## 정육면체 면적과 부피를 구하는 프로그램\n",
    "\n",
    "> 정육면체의 한 변의 길이를 입력하면 넓이의 총합과 부피를 구하여라.<p>\n",
    "    원하는 출력 결과물은 다음과 같다.\n",
    "    \n",
    "> --- output ---<p>\n",
    "정육면체 한 변의 길이를 입력하세요 : 2 <p>\n",
    "정육면체의 면의 총합은 24 입니다. <p>\n",
    "정육면체의 부피는 8 입니다. <p>"
   ]
  },
  {
   "cell_type": "code",
   "execution_count": 78,
   "metadata": {},
   "outputs": [
    {
     "name": "stdout",
     "output_type": "stream",
     "text": [
      "정육면체 한 변의 길이를 입력하세요 : 2\n",
      "정육면체의 면의 총합은 24 입니다.\n",
      "정육면체의 부피는 8 입니다.\n"
     ]
    }
   ],
   "source": [
    "# 문제 2 답\n",
    "\n",
    "\n",
    "\n",
    "l = int(input(\"정육면체 한 변의 길이를 입력하세요 : \"))\n",
    "s = lambda l : l**2*6\n",
    "v = lambda v : l**3\n",
    "\n",
    "print(\"정육면체의 면의 총합은\", s(l), \"입니다.\")\n",
    "print(\"정육면체의 부피는\", v(l), \"입니다.\")"
   ]
  },
  {
   "cell_type": "code",
   "execution_count": null,
   "metadata": {},
   "outputs": [],
   "source": []
  }
 ],
 "metadata": {
  "kernelspec": {
   "display_name": "Python 3",
   "language": "python",
   "name": "python3"
  },
  "language_info": {
   "codemirror_mode": {
    "name": "ipython",
    "version": 3
   },
   "file_extension": ".py",
   "mimetype": "text/x-python",
   "name": "python",
   "nbconvert_exporter": "python",
   "pygments_lexer": "ipython3",
   "version": "3.8.5"
  }
 },
 "nbformat": 4,
 "nbformat_minor": 4
}
